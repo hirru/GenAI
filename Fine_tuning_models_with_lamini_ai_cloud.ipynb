{
  "nbformat": 4,
  "nbformat_minor": 0,
  "metadata": {
    "colab": {
      "provenance": [],
      "authorship_tag": "ABX9TyPbdGYBjkjGJ5Ji8Gr/62Gp",
      "include_colab_link": true
    },
    "kernelspec": {
      "name": "python3",
      "display_name": "Python 3"
    },
    "language_info": {
      "name": "python"
    }
  },
  "cells": [
    {
      "cell_type": "markdown",
      "metadata": {
        "id": "view-in-github",
        "colab_type": "text"
      },
      "source": [
        "<a href=\"https://colab.research.google.com/github/hirru/GenAI/blob/main/Fine_tuning_models_with_lamini_ai_cloud.ipynb\" target=\"_parent\"><img src=\"https://colab.research.google.com/assets/colab-badge.svg\" alt=\"Open In Colab\"/></a>"
      ]
    },
    {
      "cell_type": "code",
      "execution_count": 6,
      "metadata": {
        "id": "RmLNEFK-uxRI"
      },
      "outputs": [],
      "source": [
        "def get_data():\n",
        "    data = [\n",
        "        {\n",
        "            \"input\": \"Are there any step-by-step tutorials or walkthroughs available in the documentation?\",\n",
        "            \"output\": \"Yes, there are step-by-step tutorials and walkthroughs available in the documentation section. Here\\u2019s an example for using Lamini to get insights into any python SDK: https://lamini-ai.github.io/example/\",\n",
        "        },\n",
        "        {\n",
        "            \"input\": \"Is the Lamini type system similar to a python type system?\",\n",
        "            \"output\": \"Yes, the Lamini type system is built using Pydantic BaseModel.\",\n",
        "        },\n",
        "        {\n",
        "            \"input\": \"Does Lamini have a limit on the number of API requests I can make?\",\n",
        "            \"output\": \"Lamini provides each user with free tokens up front.\",\n",
        "        },\n",
        "        {\n",
        "            \"input\": \"What does it mean to cancel a job using the `cancel_job()` function? Can we stop the machine from doing its task?\",\n",
        "            \"output\": \"The `cancel_job()` function is used to stop a tuning job that is currently running.\",\n",
        "        },\n",
        "        {\n",
        "            \"input\": \"Can Lamini automatically handle hyperparameter tuning during the customization process? How does it optimize the model for a specific use case?\",\n",
        "            \"output\": \"Lamini is capable of automatically handling hyperparameter tuning during the model customization process. It employs an intelligent algorithm to explore the hyperparameter space and find the optimal combination of values. This is done through techniques such as heuristics, grid search, random search, Bayesian optimization, or genetic algorithms. Lamini efficiently utilizes computational resources to evaluate multiple model instances with different hyperparameter configurations. It incorporates techniques like cross-validation to prevent overfitting and ensure generalization. By automating hyperparameter tuning, Lamini streamlines the machine learning workflow and improves the chances of developing high-performing models for specific use cases.\",\n",
        "        },\n",
        "        {\n",
        "            \"input\": \"Can you explain the CC-BY license mentioned? What does it allow me to do with the customized language model?\",\n",
        "            \"output\": \"Lamini allows for commercial use of their LLM technology under a permissive Apache 2.0 license unless otherwise specified. You keep access and ownership of your own data, and we don't use your data to tune models for anyone else but you. For more information, please reach out to Lamini directly.\",\n",
        "        },\n",
        "        {\n",
        "            \"input\": \"Can Lamini be used on a regular computer, or do I need specialized hardware or software?\",\n",
        "            \"output\": \"Lamini can be used on a regular computer without any specialized hardware or software by using the python client or REST APIs. It is designed to be easily accessible and user-friendly.  The LLM Engine itself requires GPU accelerated servers capable of running large language models.  Lamini hosts such machines that can be easily connected to, e.g. from a jupyter notebook or python program.  Lamini also offers enterprise deployments of the LLM Engine on your infrastructure.\",\n",
        "        },\n",
        "        {\n",
        "            \"input\": \"Does Lamini require an internet connection to work, or can I use it offline?\",\n",
        "            \"output\": \"Lamini requires an internet connection to work, as it is a cloud-based language model. However, you can use it offline by downloading and running a local instance of the Lamini API. To learn more about this deployment process, reach out to the Lamini team.\",\n",
        "        },\n",
        "        {\n",
        "            \"input\": \"Can Lamini help me with tasks like translating text or answering questions, or is it focused on generating text?\",\n",
        "            \"output\": \"Lamini is primarily focused on generating text, and it can be used for tasks like summarization and paraphrasing. Lamini can also be used to tune a LLM for tasks like translation and question answering. You\\u2019re talking to a model tuned using Lamini right now!\",\n",
        "        },\n",
        "        {\n",
        "            \"input\": \"What is Lamini? Is it like a robot or a computer program?\",\n",
        "            \"output\": \"Lamini is a program for the execution of LLMs called a large language model engine. It is not a robot, but rather a tool for building and executing LLMs.\",\n",
        "        },\n",
        "    ]\n",
        "\n",
        "    return data\n"
      ]
    },
    {
      "cell_type": "code",
      "source": [
        "!pip install lamini\n"
      ],
      "metadata": {
        "colab": {
          "base_uri": "https://localhost:8080/"
        },
        "id": "Q8vQMX1gu3Y4",
        "outputId": "e0619514-0bf0-4536-e8ad-bb5649271ec6"
      },
      "execution_count": 7,
      "outputs": [
        {
          "output_type": "stream",
          "name": "stdout",
          "text": [
            "Requirement already satisfied: lamini in /usr/local/lib/python3.10/dist-packages (3.1.3)\n",
            "Requirement already satisfied: lamini-configuration[yaml] in /usr/local/lib/python3.10/dist-packages (from lamini) (0.8.3)\n",
            "Requirement already satisfied: requests in /usr/local/lib/python3.10/dist-packages (from lamini) (2.32.3)\n",
            "Requirement already satisfied: tqdm in /usr/local/lib/python3.10/dist-packages (from lamini) (4.66.6)\n",
            "Requirement already satisfied: numpy<2.0.0 in /usr/local/lib/python3.10/dist-packages (from lamini) (1.26.4)\n",
            "Requirement already satisfied: jsonlines in /usr/local/lib/python3.10/dist-packages (from lamini) (4.0.0)\n",
            "Requirement already satisfied: pandas in /usr/local/lib/python3.10/dist-packages (from lamini) (2.2.2)\n",
            "Requirement already satisfied: azure-storage-blob in /usr/local/lib/python3.10/dist-packages (from lamini) (12.24.0)\n",
            "Requirement already satisfied: scikit-learn in /usr/local/lib/python3.10/dist-packages (from lamini) (1.5.2)\n",
            "Requirement already satisfied: aiohttp in /usr/local/lib/python3.10/dist-packages (from lamini) (3.11.1)\n",
            "Requirement already satisfied: aiohappyeyeballs>=2.3.0 in /usr/local/lib/python3.10/dist-packages (from aiohttp->lamini) (2.4.3)\n",
            "Requirement already satisfied: aiosignal>=1.1.2 in /usr/local/lib/python3.10/dist-packages (from aiohttp->lamini) (1.3.1)\n",
            "Requirement already satisfied: attrs>=17.3.0 in /usr/local/lib/python3.10/dist-packages (from aiohttp->lamini) (24.2.0)\n",
            "Requirement already satisfied: frozenlist>=1.1.1 in /usr/local/lib/python3.10/dist-packages (from aiohttp->lamini) (1.5.0)\n",
            "Requirement already satisfied: multidict<7.0,>=4.5 in /usr/local/lib/python3.10/dist-packages (from aiohttp->lamini) (6.1.0)\n",
            "Requirement already satisfied: propcache>=0.2.0 in /usr/local/lib/python3.10/dist-packages (from aiohttp->lamini) (0.2.0)\n",
            "Requirement already satisfied: yarl<2.0,>=1.17.0 in /usr/local/lib/python3.10/dist-packages (from aiohttp->lamini) (1.17.1)\n",
            "Requirement already satisfied: async-timeout<6.0,>=4.0 in /usr/local/lib/python3.10/dist-packages (from aiohttp->lamini) (4.0.3)\n",
            "Requirement already satisfied: azure-core>=1.30.0 in /usr/local/lib/python3.10/dist-packages (from azure-storage-blob->lamini) (1.32.0)\n",
            "Requirement already satisfied: cryptography>=2.1.4 in /usr/local/lib/python3.10/dist-packages (from azure-storage-blob->lamini) (43.0.3)\n",
            "Requirement already satisfied: typing-extensions>=4.6.0 in /usr/local/lib/python3.10/dist-packages (from azure-storage-blob->lamini) (4.12.2)\n",
            "Requirement already satisfied: isodate>=0.6.1 in /usr/local/lib/python3.10/dist-packages (from azure-storage-blob->lamini) (0.7.2)\n",
            "Requirement already satisfied: pyyaml<7.0,>=6.0 in /usr/local/lib/python3.10/dist-packages (from lamini-configuration[yaml]->lamini) (6.0.2)\n",
            "Requirement already satisfied: python-dateutil>=2.8.2 in /usr/local/lib/python3.10/dist-packages (from pandas->lamini) (2.8.2)\n",
            "Requirement already satisfied: pytz>=2020.1 in /usr/local/lib/python3.10/dist-packages (from pandas->lamini) (2024.2)\n",
            "Requirement already satisfied: tzdata>=2022.7 in /usr/local/lib/python3.10/dist-packages (from pandas->lamini) (2024.2)\n",
            "Requirement already satisfied: charset-normalizer<4,>=2 in /usr/local/lib/python3.10/dist-packages (from requests->lamini) (3.4.0)\n",
            "Requirement already satisfied: idna<4,>=2.5 in /usr/local/lib/python3.10/dist-packages (from requests->lamini) (3.10)\n",
            "Requirement already satisfied: urllib3<3,>=1.21.1 in /usr/local/lib/python3.10/dist-packages (from requests->lamini) (2.2.3)\n",
            "Requirement already satisfied: certifi>=2017.4.17 in /usr/local/lib/python3.10/dist-packages (from requests->lamini) (2024.8.30)\n",
            "Requirement already satisfied: scipy>=1.6.0 in /usr/local/lib/python3.10/dist-packages (from scikit-learn->lamini) (1.13.1)\n",
            "Requirement already satisfied: joblib>=1.2.0 in /usr/local/lib/python3.10/dist-packages (from scikit-learn->lamini) (1.4.2)\n",
            "Requirement already satisfied: threadpoolctl>=3.1.0 in /usr/local/lib/python3.10/dist-packages (from scikit-learn->lamini) (3.5.0)\n",
            "Requirement already satisfied: six>=1.11.0 in /usr/local/lib/python3.10/dist-packages (from azure-core>=1.30.0->azure-storage-blob->lamini) (1.16.0)\n",
            "Requirement already satisfied: cffi>=1.12 in /usr/local/lib/python3.10/dist-packages (from cryptography>=2.1.4->azure-storage-blob->lamini) (1.17.1)\n",
            "Requirement already satisfied: pycparser in /usr/local/lib/python3.10/dist-packages (from cffi>=1.12->cryptography>=2.1.4->azure-storage-blob->lamini) (2.22)\n"
          ]
        }
      ]
    },
    {
      "cell_type": "code",
      "source": [
        "import lamini\n",
        "from lamini import Lamini\n",
        "from google.colab import userdata\n",
        "\n",
        "lamini.api_key=userdata.get('LAMINI_API_KEY')\n",
        "\n",
        "llm=Lamini(model_name=\"meta-llama/Meta-Llama-3-8B-Instruct\")\n",
        "\n",
        "data=get_data()\n",
        "\n",
        "llm.tune(data_or_dataset_id=data,\n",
        "         finetune_args={'learning_rate':1.0e-4}\n",
        "          )"
      ],
      "metadata": {
        "colab": {
          "base_uri": "https://localhost:8080/"
        },
        "id": "SC7ANZ0xu7F_",
        "outputId": "49051846-80d9-4575-98d1-7b14be6382a2"
      },
      "execution_count": 9,
      "outputs": [
        {
          "output_type": "stream",
          "name": "stdout",
          "text": [
            "Data pairs uploaded to local.\n",
            "\n",
            "Your dataset id is: 627da8e0cebf3715c617d246c82014211dbdfc76e9250325911a90dade957b7b . Consider using this in the future to train using the same data. \n",
            "Eg: llm.train(data_or_dataset_id='627da8e0cebf3715c617d246c82014211dbdfc76e9250325911a90dade957b7b')\n",
            "Tuning job submitted! Check status of job 14234 here: https://api.lamini.ai/train/14234\n"
          ]
        },
        {
          "output_type": "execute_result",
          "data": {
            "text/plain": [
              "{'job_id': 14234,\n",
              " 'status': 'CREATED',\n",
              " 'dataset_id': '627da8e0cebf3715c617d246c82014211dbdfc76e9250325911a90dade957b7b'}"
            ]
          },
          "metadata": {},
          "execution_count": 9
        }
      ]
    },
    {
      "cell_type": "code",
      "source": [],
      "metadata": {
        "id": "11yf5IR0vBFL"
      },
      "execution_count": null,
      "outputs": []
    }
  ]
}